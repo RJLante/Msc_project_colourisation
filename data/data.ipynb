{
 "cells": [
  {
   "cell_type": "code",
   "execution_count": null,
   "id": "cd70bdd2",
   "metadata": {},
   "outputs": [],
   "source": [
    "# Download COCO dataset with support for resume from breakpoint if partial file already exists.\n",
    "\n",
    "import os\n",
    "import requests\n",
    "\n",
    "def download_file(url, local_filename):\n",
    "    # Check if file already exists and determine its size\n",
    "    if os.path.exists(local_filename):\n",
    "        # Get the size of the already downloaded file\n",
    "        downloaded_size = os.path.getsize(local_filename)\n",
    "    else:\n",
    "        downloaded_size = 0\n",
    "\n",
    "    # If the file exists and has content, set the Range header to resume download\n",
    "    headers = {}\n",
    "    if downloaded_size:\n",
    "        headers = {'Range': f'bytes={downloaded_size}-'}\n",
    "\n",
    "    with requests.get(url, stream=True, headers=headers) as r:\n",
    "        # Check if the server indicates the file is already fully downloaded\n",
    "        if downloaded_size and r.status_code == 416:\n",
    "            print(f\"{local_filename} already fully downloaded.\")\n",
    "            return local_filename\n",
    "\n",
    "        r.raise_for_status()\n",
    "\n",
    "        # Open file in append binary mode if resuming, otherwise write binary mode\n",
    "        mode = 'ab' if downloaded_size else 'wb'\n",
    "        with open(local_filename, mode) as f:\n",
    "            for chunk in r.iter_content(chunk_size=8192):\n",
    "                if chunk:  # Filter out keep-alive chunks\n",
    "                    f.write(chunk)\n",
    "                    downloaded_size += len(chunk)\n",
    "                    print(f\"Downloaded {downloaded_size} bytes of {local_filename}\")\n",
    "\n",
    "    return local_filename\n",
    "\n",
    "# Download COCO dataset\n",
    "urls = [\n",
    "    'http://images.cocodataset.org/zips/train2017.zip',\n",
    "    'http://images.cocodataset.org/zips/val2017.zip',\n",
    "    'http://images.cocodataset.org/zips/test2017.zip',\n",
    "    'http://images.cocodataset.org/annotations/annotations_trainval2017.zip'\n",
    "]\n",
    "\n",
    "for url in urls:\n",
    "    filename = os.path.join(os.getcwd(), os.path.basename(url))\n",
    "    print(f'Downloading {filename}...')\n",
    "    download_file(url, filename)\n",
    "    print(f'{filename} downloaded successfully.')\n"
   ]
  }
 ],
 "metadata": {
  "kernelspec": {
   "display_name": "Python 3",
   "language": "python",
   "name": "python3"
  },
  "language_info": {
   "name": "python",
   "version": "3.12.6"
  }
 },
 "nbformat": 4,
 "nbformat_minor": 5
}
